{
 "cells": [
  {
   "cell_type": "code",
   "execution_count": null,
   "id": "e3de7fea",
   "metadata": {},
   "outputs": [],
   "source": [
    "import pandas as pd\n",
    "from selenium import webdriver \n",
    "from selenium.webdriver.chrome.service import Service \n",
    "from selenium.webdriver.chrome.options import Options \n",
    "from selenium.webdriver.chrome.webdriver import WebDriver \n",
    "from webdriver_manager.chrome import ChromeDriverManager \n",
    "from selenium.webdriver.common.by import By \n",
    "from selenium.webdriver.remote.webelement import WebElement \n",
    "import time \n",
    "import html \n",
    "import pandas\n",
    "option = Options() \n",
    "option.add_experimental_option(\"detach\", True) \n",
    "driver:WebDriver = webdriver.Chrome(service=Service(ChromeDriverManager().install()), options=option)\n",
    "action_chain = ActionChains(driver)\n"
   ]
  },
  {
   "cell_type": "code",
   "execution_count": null,
   "id": "f0836a63",
   "metadata": {},
   "outputs": [],
   "source": [
    "action_chain = ActionChains(driver)\n"
   ]
  },
  {
   "cell_type": "code",
   "execution_count": null,
   "id": "03b6f0d3",
   "metadata": {},
   "outputs": [],
   "source": [
    "from selenium.webdriver.common.action_chains import ActionChains\n"
   ]
  },
  {
   "cell_type": "code",
   "execution_count": null,
   "id": "b55aceb5",
   "metadata": {},
   "outputs": [],
   "source": [
    "brand_data = pd.read_csv(\"brand data and links.csv\", index_col = \"Index\")\n",
    "def check_for_amazon_signout():\n",
    "    try:\n",
    "        driver.find_element(By.XPATH, \".//a/span[text()=\\\"Sign in\\\"]\")\n",
    "        input(\"AMAZON SIGNED YOU OUT SIGN IN !!!!\")\n",
    "        return True\n",
    "    except:\n",
    "        return False\n"
   ]
  },
  {
   "cell_type": "code",
   "execution_count": null,
   "id": "bb67fdc2",
   "metadata": {},
   "outputs": [],
   "source": [
    "brand_data.iloc[0,:]"
   ]
  },
  {
   "cell_type": "code",
   "execution_count": null,
   "id": "2cb49509",
   "metadata": {},
   "outputs": [],
   "source": [
    "def hower_on_product_image_icons():\n",
    "    HOWER_TIME = 0.15\n",
    "    image_icon_eles = driver.find_element(By.ID, \"altImages\").find_elements(By.XPATH,\".//li[contains(@class,'item')]\")\n",
    "    for image_icon_element in image_icon_eles:\n",
    "        action_chain.move_to_element(image_icon_element).perform()\n",
    "        time.sleep(HOWER_TIME) "
   ]
  },
  {
   "cell_type": "code",
   "execution_count": null,
   "id": "7550641f",
   "metadata": {},
   "outputs": [],
   "source": [
    "def get_product_metadata():\n",
    "    res = dict()\n",
    "    try:\n",
    "        row_elements = driver.find_elements(By.XPATH, \".//div[@id='productOverview_feature_div']/div/table/tbody/tr\")\n",
    "#         print(row_elements)\n",
    "        for row_ele in row_elements:\n",
    "            value_elements = row_ele.find_elements(By.XPATH, \"./td/span\")\n",
    "            assert len(value_elements) == 2, \"Unexpected schema encountered\"\n",
    "            key = value_elements[0].get_attribute(\"innerHTML\")\n",
    "            value = value_elements[1].get_attribute(\"innerHTML\")\n",
    "            res[key] = value\n",
    "        return res\n",
    "    except Exception as e:\n",
    "        return dict()"
   ]
  },
  {
   "cell_type": "code",
   "execution_count": null,
   "id": "0536a867",
   "metadata": {},
   "outputs": [],
   "source": [
    "def get_product_data_from_product_link(product_link):\n",
    "#     driver.get(product_link)\n",
    "    if(check_for_amazon_signout()):\n",
    "        driver.get(product_link)\n",
    "#     hower_on_product_image_icons()\n",
    "    product_name  = driver.find_element(By.ID, \"productTitle\").get_attribute(\"innerHTML\")\n",
    "    product_price = int(driver.find_element(By.XPATH, \\\n",
    "                    \".//div[@id='corePriceDisplay_desktop_feature_div']//span[contains(@class, 'a-price-whole')]\")\\\n",
    "                    .get_attribute(\"innerHTML\").replace(',',''))\n",
    "    product_image_elements = driver.find_elements(By.XPATH, \".//span[@data-action=\\\"main-image-click\\\"]//img[@src]\")\n",
    "    product_image_links = list(map(lambda x: x.get_attribute(\"src\"), product_image_elements))\n",
    "    product_description_ele_list = driver.find_elements(By.XPATH, \".//div[@id='feature-bullets']/ul/li/span\")\n",
    "    product_description_list = list(map(lambda x: x.get_attribute(\"innerHTML\"), product_description_ele_list))\n",
    "    product_metadata = get_product_metadata()\n",
    "    return product_name, product_price, list(product_image_links), product_description_list, product_metadata\n",
    "get_product_data_from_product_link(\"https://www.amazon.in/OnePlus-Nord-Chromatic-128GB-Storage/dp/B0BY8MCQ9S/ref=sr_1_1?qid=1687439310&refinements=p_89%3AOnePlus&rnid=3837712031&s=electronics&sr=1-1\")"
   ]
  },
  {
   "cell_type": "code",
   "execution_count": null,
   "id": "e2e50744",
   "metadata": {},
   "outputs": [],
   "source": [
    "def get_products_data_list_for_brand(index:int = 0):\n",
    "    link = brand_data.iloc[0,2]\n",
    "#     driver.get(link)\n",
    "    res = []\n",
    "    if(check_for_amazon_signout()):\n",
    "        driver.get(link)\n",
    "    product_list = driver.find_elements(By.XPATH, \".//div[@data-component-type='s-search-result']//a/div/img/../..\")\n",
    "    product_links = map(lambda x: x.get_attribute(\"href\"), product_list)\n",
    "    return list(product_links)\n",
    "get_products_data_list_for_brand()[0]"
   ]
  }
 ],
 "metadata": {
  "kernelspec": {
   "display_name": "Python 3 (ipykernel)",
   "language": "python",
   "name": "python3"
  },
  "language_info": {
   "codemirror_mode": {
    "name": "ipython",
    "version": 3
   },
   "file_extension": ".py",
   "mimetype": "text/x-python",
   "name": "python",
   "nbconvert_exporter": "python",
   "pygments_lexer": "ipython3",
   "version": "3.11.3"
  }
 },
 "nbformat": 4,
 "nbformat_minor": 5
}
